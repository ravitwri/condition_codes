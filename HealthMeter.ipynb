{
  "cells": [
    {
      "cell_type": "markdown",
      "metadata": {
        "id": "view-in-github",
        "colab_type": "text"
      },
      "source": [
        "<a href=\"https://colab.research.google.com/github/ravitwri/condition_codes/blob/main/HealthMeter.ipynb\" target=\"_parent\"><img src=\"https://colab.research.google.com/assets/colab-badge.svg\" alt=\"Open In Colab\"/></a>"
      ]
    },
    {
      "cell_type": "code",
      "execution_count": null,
      "metadata": {
        "colab": {
          "background_save": true,
          "base_uri": "https://localhost:8080/"
        },
        "id": "kM6oGMjBIHvI",
        "outputId": "b408751f-537b-4027-fcd1-a7880d0b4731"
      },
      "outputs": [
        {
          "metadata": {
            "tags": null
          },
          "name": "stdout",
          "output_type": "stream",
          "text": [
            "1. Calculate weight in different units\n",
            "2. Calculate height in different units\n",
            "3. Calculate your BMI\n",
            "4. Calculate your Body Fat percentage\n",
            "5. Quit\n",
            "1. Body Fat percentage for adult males\n",
            "2. Body Fat percentage for adult females\n",
            "3. Body Fat percentage for boys (below age of 26)\n",
            "4. Body Fat percentage for girls (below age of 21)\n",
            "Your body fat percentage is 22.019999999999996%\n",
            "Category: average\n",
            "1. Calculate weight in different units\n",
            "2. Calculate height in different units\n",
            "3. Calculate your BMI\n",
            "4. Calculate your Body Fat percentage\n",
            "5. Quit\n"
          ]
        }
      ],
      "source": [
        "def convert_weight(choice_of_weight):\n",
        "    if choice_of_weight == 1:\n",
        "        weight_in_lbs = float(input(\"Enter your weight (lbs): \"))\n",
        "        weight_in_kg = weight_in_lbs * 0.45359237\n",
        "        print(f\"Your weight is {weight_in_kg} kg\")\n",
        "    elif choice_of_weight == 2:\n",
        "        weight_in_kg = float(input(\"Enter your weight (kgs): \"))\n",
        "        weight_in_lbs = weight_in_kg * 2.20462262\n",
        "        print(f\"Your weight is {weight_in_lbs} lbs\")\n",
        "    else:\n",
        "        print(\"Invalid choice\")\n",
        "\n",
        "def convert_height(choice_of_height):\n",
        "    if choice_of_height == 1:\n",
        "        height_in_feet = float(input(\"Enter your height (feet): \"))\n",
        "        height_in_mtrs = height_in_feet * 0.3048\n",
        "        print(f\"Your height is {height_in_mtrs} meters\")\n",
        "    elif choice_of_height == 2:\n",
        "        height_in_mtrs = float(input(\"Enter your height (meters): \"))\n",
        "        height_in_feet = height_in_mtrs * 3.2808\n",
        "        print(f\"Your height is {height_in_feet} feet\")\n",
        "    else:\n",
        "        print(\"Invalid choice\")\n",
        "\n",
        "def calculate_bmi():\n",
        "    height_in_mtrs = float(input(\"Enter your height (in meters): \"))\n",
        "    weight_in_kg = float(input(\"Enter your weight (in kg): \"))\n",
        "    bmi = weight_in_kg / (height_in_mtrs ** 2)\n",
        "    print(f\"Your BMI is {bmi} kg/m^2\")\n",
        "\n",
        "    if bmi < 18.5:\n",
        "        print(\"Category: underweight\")\n",
        "    elif 18.5 <= bmi < 25:\n",
        "        print(\"Category: healthy weight\")\n",
        "    elif 25 <= bmi < 30:\n",
        "        print(\"Category: overweight\")\n",
        "    else:\n",
        "        print(\"Category: obese\")\n",
        "\n",
        "def calculate_body_fat_percentage(choice_of_bfp):\n",
        "    bmi = float(input(\"Enter your BMI: \"))\n",
        "    age = int(input(\"Enter your age: \"))\n",
        "\n",
        "    if choice_of_bfp == 1:\n",
        "        bfp = 1.20 * bmi + 0.23 * age - 16.2\n",
        "    elif choice_of_bfp == 2:\n",
        "        bfp = 1.20 * bmi + 0.23 * age - 5.4\n",
        "    elif choice_of_bfp == 3:\n",
        "        bfp = 1.51 * bmi - 0.7 * age - 2.2\n",
        "    elif choice_of_bfp == 4:\n",
        "        bfp = 1.51 * bmi - 0.7 * age + 1.4\n",
        "    else:\n",
        "        print(\"Invalid choice\")\n",
        "        return\n",
        "\n",
        "    print(f\"Your body fat percentage is {bfp}%\")\n",
        "\n",
        "    if 6 > bfp >= 2:\n",
        "        print(\"Category: essential\")\n",
        "    elif 14 > bfp >= 6:\n",
        "        print(\"Category: athletes\")\n",
        "    elif 18 > bfp >= 14:\n",
        "        print(\"Category: fitness\")\n",
        "    elif 25 >= bfp >= 18:\n",
        "        print(\"Category: average\")\n",
        "    else:\n",
        "        print(\"Category: obese\")\n",
        "\n",
        "def main():\n",
        "    while True:\n",
        "        print(\"1. Calculate weight in different units\")\n",
        "        print(\"2. Calculate height in different units\")\n",
        "        print(\"3. Calculate your BMI\")\n",
        "        print(\"4. Calculate your Body Fat percentage\")\n",
        "        print(\"5. Quit\")\n",
        "\n",
        "        choice = int(input(\"Enter your choice: \"))\n",
        "\n",
        "        if choice == 1:\n",
        "            print(\"1. Convert lbs to kgs\")\n",
        "            print(\"2. Convert kgs to lbs\")\n",
        "            choice_of_weight = int(input(\"Enter your choice: \"))\n",
        "            convert_weight(choice_of_weight)\n",
        "        elif choice == 2:\n",
        "            print(\"1. Convert feet to meters\")\n",
        "            print(\"2. Convert meters to feet\")\n",
        "            choice_of_height = int(input(\"Enter your choice: \"))\n",
        "            convert_height(choice_of_height)\n",
        "        elif choice == 3:\n",
        "            calculate_bmi()\n",
        "        elif choice == 4:\n",
        "            print(\"1. Body Fat percentage for adult males\")\n",
        "            print(\"2. Body Fat percentage for adult females\")\n",
        "            print(\"3. Body Fat percentage for boys (below age of 26)\")\n",
        "            print(\"4. Body Fat percentage for girls (below age of 21)\")\n",
        "            choice_of_bfp = int(input(\"Enter your choice: \"))\n",
        "            calculate_body_fat_percentage(choice_of_bfp)\n",
        "        elif choice == 5:\n",
        "            print(\"Exiting the program.\")\n",
        "            break\n",
        "        else:\n",
        "            print(\"Invalid choice\")\n",
        "\n",
        "if __name__ == \"__main__\":\n",
        "    main()\n"
      ]
    }
  ],
  "metadata": {
    "colab": {
      "provenance": [],
      "authorship_tag": "ABX9TyN7ndqvGpKp/WskYt5n7fCb",
      "include_colab_link": true
    },
    "kernelspec": {
      "display_name": "Python 3",
      "name": "python3"
    },
    "language_info": {
      "name": "python"
    }
  },
  "nbformat": 4,
  "nbformat_minor": 0
}